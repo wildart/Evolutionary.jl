{
 "cells": [
  {
   "cell_type": "markdown",
   "metadata": {},
   "source": [
    "# Symbolic Regression with Genetic Programming\n",
    "\n",
    "Date: 2021-01-11  \n",
    "Categories: julia, evolutionary  \n",
    "Tags: symbolic regression, genetic programming\n",
    "<!--eofm-->\n",
    "\n",
    "## Introduction\n",
    "\n",
    "**Symbolic Regression** is a type of regression analysis that searches the space of mathematical expressions to find the model that best fits a given dataset, both in terms of accuracy and simplicity. While conventional regression techniques seek to optimize the parameters for a pre-specified model structure, symbolic regression avoids imposing prior assumptions, and instead infers the model from the data. Common representation of the SR model is an expression tree.\n",
    "\n",
    "- An example of the expression tree for $x^3+x^2+x$\n",
    "\n",
    "![](Expression_Tree.png)\n",
    "\n",
    "**Genetic Programming (GP)** evolves computer programs, traditionally represented as expression tree structures.  Some of the applications of GP are curve fitting, data modeling, symbolic regression, feature selection, classification, etc. \n",
    "<!--more-->"
   ]
  },
  {
   "cell_type": "markdown",
   "metadata": {},
   "source": [
    "## Benchmark Function\n",
    "\n",
    "We begin by importing some Julia libraries"
   ]
  },
  {
   "cell_type": "code",
   "execution_count": 1,
   "metadata": {},
   "outputs": [],
   "source": [
    "using Evolutionary\n",
    "using Random, StableRNGs\n",
    "using Plots\n",
    "Plots.gr()\n",
    "default(fmt = :png)"
   ]
  },
  {
   "cell_type": "markdown",
   "metadata": {},
   "source": [
    "We need to generate some data from **Nguyen-1** benchmark function: $x^3+x^2+x$"
   ]
  },
  {
   "cell_type": "code",
   "execution_count": 2,
   "metadata": {},
   "outputs": [
    {
     "data": {
      "text/plain": [
       "20-element Vector{Float64}:\n",
       " -0.7792822569729165\n",
       " -0.6754297279613941\n",
       " -0.6580629014053798\n",
       " -0.6175170410836337\n",
       " -0.493789415420681\n",
       " -0.3557789733653576\n",
       " -0.11791281798995135\n",
       "  0.16102972537039095\n",
       "  0.19702890961130848\n",
       "  0.254683337669654\n",
       "  0.2751675124602033\n",
       "  0.2867370641948148\n",
       "  0.2926452861976534\n",
       "  0.40955191116249523\n",
       "  0.41764004846019365\n",
       "  0.4786550558321383\n",
       "  0.4868995797086484\n",
       "  0.544767897566282\n",
       "  0.6079438312231553\n",
       "  0.9422669364129046"
      ]
     },
     "execution_count": 2,
     "metadata": {},
     "output_type": "execute_result"
    }
   ],
   "source": [
    "rng = StableRNG(42)\n",
    "d, n = 1, 20\n",
    "Nguyen1(x) = x*x*x + x*x + x\n",
    "xs = sort!(2*rand(rng, n).-1)"
   ]
  },
  {
   "cell_type": "markdown",
   "metadata": {},
   "source": [
    "Next, we define collection of symbols and operations used for construction of of the genetic program expression.\n",
    "\n",
    "First, we define the symbols"
   ]
  },
  {
   "cell_type": "code",
   "execution_count": 3,
   "metadata": {},
   "outputs": [
    {
     "data": {
      "text/plain": [
       "1-element Vector{Symbol}:\n",
       " :x"
      ]
     },
     "execution_count": 3,
     "metadata": {},
     "output_type": "execute_result"
    }
   ],
   "source": [
    "syms = [:x]"
   ]
  },
  {
   "cell_type": "markdown",
   "metadata": {},
   "source": [
    "and, the allowed functions"
   ]
  },
  {
   "cell_type": "code",
   "execution_count": 4,
   "metadata": {},
   "outputs": [
    {
     "data": {
      "text/plain": [
       "4-element Vector{Function}:\n",
       " + (generic function with 308 methods)\n",
       " - (generic function with 314 methods)\n",
       " * (generic function with 506 methods)\n",
       " aq (generic function with 1 method)"
      ]
     },
     "execution_count": 4,
     "metadata": {},
     "output_type": "execute_result"
    }
   ],
   "source": [
    "funcs = Function[+, -, *, Evolutionary.aq] # aq is an analytic quotient: aq(x,y) = x/sqrt(1+y²)"
   ]
  },
  {
   "cell_type": "markdown",
   "metadata": {},
   "source": [
    "Let's define the fitness function for evaluation of the genetic program as root-mean-square error (RMSE)"
   ]
  },
  {
   "cell_type": "code",
   "execution_count": 5,
   "metadata": {},
   "outputs": [
    {
     "data": {
      "text/plain": [
       "fitobj (generic function with 1 method)"
      ]
     },
     "execution_count": 5,
     "metadata": {},
     "output_type": "execute_result"
    }
   ],
   "source": [
    "fitobj(expr) = sum( abs2.(Nguyen1.(xs) - Evolutionary.Expression(expr).(xs)) )/length(xs) |> sqrt"
   ]
  },
  {
   "cell_type": "markdown",
   "metadata": {},
   "source": [
    "Test some arbitrary expression with our fitness function"
   ]
  },
  {
   "cell_type": "code",
   "execution_count": 6,
   "metadata": {},
   "outputs": [
    {
     "name": "stdout",
     "output_type": "stream",
     "text": [
      "Evaluate expression: [0.6072808360328027, 0.45620531741400283, 0.4330467822060666, 0.38132729602868615, 0.24382798678149786, 0.1265786778889078, 0.013903432646331393, 0.02593057245286353, 0.03882039122262117, 0.06486360248655501, 0.07571715991353616, 0.08221814398306135, 0.08564126353370646, 0.16773276793685238, 0.1744232100778329, 0.22911066247366743, 0.23707120072045845, 0.2967720622187871, 0.36959570192228836, 0.8878669794569608]\n",
      "Obj. func = 0.7303370563815205\n"
     ]
    }
   ],
   "source": [
    "expr = Expr(:call, *, :x, :x)\n",
    "println(\"Evaluate expression: \", Evolutionary.Expression(expr).(xs))\n",
    "println(\"Obj. func = \", fitobj(expr))"
   ]
  },
  {
   "cell_type": "markdown",
   "metadata": {},
   "source": [
    "Now, we use `TreeGP` optimization  algorithm that will construct a symbolic solution for "
   ]
  },
  {
   "cell_type": "code",
   "execution_count": 7,
   "metadata": {},
   "outputs": [
    {
     "data": {
      "text/plain": [
       "                  abstol = Inf\n",
       "                  reltol = Inf\n",
       "        successive_f_tol = 10\n",
       "              iterations = 1000\n",
       "             store_trace = false\n",
       "              show_trace = false\n",
       "              show_every = 1\n",
       "                callback = nothing\n",
       "              time_limit = NaN\n",
       "         parallelization = serial\n",
       "                     rng = StableRNGs.LehmerRNG(state=0x0000000000000000000001cbd705de1f)\n"
      ]
     },
     "execution_count": 7,
     "metadata": {},
     "output_type": "execute_result"
    }
   ],
   "source": [
    "opts = Evolutionary.Options(rng = StableRNG(987498737423))"
   ]
  },
  {
   "cell_type": "code",
   "execution_count": 8,
   "metadata": {},
   "outputs": [
    {
     "data": {
      "text/plain": [
       "\n",
       " * Status: success\n",
       "\n",
       " * Candidate solution\n",
       "    Minimizer:  (+)(x, (+)((*)(x, x), (*)(x, (*)(x, x))))\n",
       "    Minimum:    0.0\n",
       "    Iterations: 19\n",
       "\n",
       " * Found with\n",
       "    Algorithm: TreeGP[P=50,Parameter[x],Function[-, *, Evolutionary.aq, +]]\n",
       "\n",
       " * Convergence measures\n",
       "    |f(x) - f(x')| = 0.0 ≤ 1.0e-5\n",
       "\n",
       " * Work counters\n",
       "    Seconds run:   0.8642 (vs limit Inf)\n",
       "    Iterations:    19\n",
       "    f(x) calls:    1000\n"
      ]
     },
     "execution_count": 8,
     "metadata": {},
     "output_type": "execute_result"
    }
   ],
   "source": [
    "res = Evolutionary.optimize(fitobj,\n",
    "    TreeGP(50, Terminal[syms...], funcs,\n",
    "        mindepth=1,\n",
    "        maxdepth=4,\n",
    "        selection = tournament(3),\n",
    "        mutationRate = 0.05,\n",
    "        crossoverRate = 0.9,\n",
    "        simplify=Evolutionary.simplify!\n",
    "    ),\n",
    "    opts\n",
    ")"
   ]
  },
  {
   "cell_type": "markdown",
   "metadata": {},
   "source": [
    "We can generate minimizing expression in LaTeX format "
   ]
  },
  {
   "cell_type": "code",
   "execution_count": 9,
   "metadata": {},
   "outputs": [
    {
     "data": {
      "text/html": [
       "(x+((x*x)+(x*(x*x))))"
      ],
      "text/latex": [
       "\\left(x+\\left(\\left(x*x\\right)+\\left(x*\\left(x*x\\right)\\right)\\right)\\right)"
      ],
      "text/plain": [
       "(x+((x*x)+(x*(x*x))))"
      ]
     },
     "execution_count": 9,
     "metadata": {},
     "output_type": "execute_result"
    }
   ],
   "source": [
    "Evolutionary.minimizer(res) |> Evolutionary.Expression"
   ]
  },
  {
   "cell_type": "markdown",
   "metadata": {},
   "source": [
    "## Symbolic Regression"
   ]
  },
  {
   "cell_type": "markdown",
   "metadata": {},
   "source": [
    "### Linear"
   ]
  },
  {
   "cell_type": "markdown",
   "metadata": {},
   "source": [
    "We generate a dataset to work with"
   ]
  },
  {
   "cell_type": "code",
   "execution_count": 10,
   "metadata": {},
   "outputs": [
    {
     "data": {
      "text/plain": [
       "([-20.0, -19.183673469387756, -18.367346938775512, -17.551020408163264, -16.73469387755102, -15.918367346938776, -15.10204081632653, -14.285714285714286, -13.46938775510204, -12.653061224489797  …  12.653061224489797, 13.46938775510204, 14.285714285714286, 15.10204081632653, 15.918367346938776, 16.73469387755102, 17.551020408163264, 18.367346938775512, 19.183673469387756, 20.0], [-11.2761206271005, -5.858362338299976, -14.21969894573035, -13.18143662851641, -4.3822993514616515, -7.481608044089917, -7.380678064815548, -7.114042119600957, -8.436135997590675, -4.204471051519161  …  12.627563419480886, 18.306318334129625, 17.740362112567237, 12.291075562742478, 19.787286653031906, 19.049239914198342, 22.004009242244763, 12.258773454958678, 25.889724817772922, 15.73817077392605])"
      ]
     },
     "execution_count": 10,
     "metadata": {},
     "output_type": "execute_result"
    }
   ],
   "source": [
    "rng = StableRNG(42);\n",
    "n = 50\n",
    "xs = range(-20, 20, length=n) |> collect\n",
    "ys = (rand(rng, n).*0.8.+0.3).*xs + (rand(rng, n).*5.0.+2.0)\n",
    "xs, ys"
   ]
  },
  {
   "cell_type": "code",
   "execution_count": 11,
   "metadata": {},
   "outputs": [
    {
     "data": {
      "image/png": "[encoded data removed]"
     },
     "execution_count": 11,
     "metadata": {},
     "output_type": "execute_result"
    }
   ],
   "source": [
    "scatter(xs, ys, leg=:none)"
   ]
  },
  {
   "cell_type": "markdown",
   "metadata": {},
   "source": [
    "Define our objective function and test it with an arbitrary exression"
   ]
  },
  {
   "cell_type": "code",
   "execution_count": 12,
   "metadata": {},
   "outputs": [
    {
     "name": "stdout",
     "output_type": "stream",
     "text": [
      "Obj. func = 1294.7548623203681\n"
     ]
    }
   ],
   "source": [
    "fitobj(expr) = sum( abs2.(ys - Evolutionary.Expression(expr).(xs)) ) |> sqrt\n",
    "\n",
    "expr = Expr(:call, *, :x, :x)\n",
    "println(\"Obj. func = \", fitobj(expr))"
   ]
  },
  {
   "cell_type": "markdown",
   "metadata": {},
   "source": [
    "We need to the symbol collection `rand` function which will alow to generate numerical constants in addition to the symbolical variables. For each symbol we specify its arity."
   ]
  },
  {
   "cell_type": "code",
   "execution_count": 13,
   "metadata": {},
   "outputs": [
    {
     "data": {
      "text/plain": [
       "Dict{Any, Int64} with 2 entries:\n",
       "  rand => 1\n",
       "  :x   => 1"
      ]
     },
     "execution_count": 13,
     "metadata": {},
     "output_type": "execute_result"
    }
   ],
   "source": [
    "syms = Dict(:x=>1, (rand) => 1)"
   ]
  },
  {
   "cell_type": "markdown",
   "metadata": {},
   "source": [
    "We define linear operations, and provide their arity."
   ]
  },
  {
   "cell_type": "code",
   "execution_count": 14,
   "metadata": {},
   "outputs": [
    {
     "data": {
      "text/plain": [
       "Dict{Function, Int64} with 4 entries:\n",
       "  -  => 2\n",
       "  *  => 2\n",
       "  aq => 2\n",
       "  +  => 2"
      ]
     },
     "execution_count": 14,
     "metadata": {},
     "output_type": "execute_result"
    }
   ],
   "source": [
    "funcs = Dict((+) => 2, (-) => 2,  (*) => 2, (Evolutionary.aq) => 2)"
   ]
  },
  {
   "cell_type": "markdown",
   "metadata": {},
   "source": [
    "We also need to increase maximum depth for the expression tree to accommodate more complex expressions"
   ]
  },
  {
   "cell_type": "code",
   "execution_count": 15,
   "metadata": {},
   "outputs": [
    {
     "name": "stdout",
     "output_type": "stream",
     "text": [
      "Iter     Function value\n",
      "     0   26.980228209043624\n",
      " * time: 0.011682987213134766\n",
      "    10   19.976831461385345\n",
      " * time: 1.2645831108093262\n"
     ]
    },
    {
     "data": {
      "text/plain": [
       "\n",
       " * Status: success\n",
       "\n",
       " * Candidate solution\n",
       "    Minimizer:  (+)((+)((-)(0.6834158734755182, x), (+)(x, 0.20154531730621472)), (+)((Evolutionary.aq)((+)(x, 0.20154531730621472), 0.8423178153097286), 3.32309880897011))\n",
       "    Minimum:    19.976831461385345\n",
       "    Iterations: 13\n",
       "\n",
       " * Found with\n",
       "    Algorithm: TreeGP[P=500,Parameter[x],Function[-, *, Evolutionary.aq, +]]\n",
       "\n",
       " * Convergence measures\n",
       "    |f(x) - f(x')| = 0.0 ≤ 1.0e-5\n",
       "\n",
       " * Work counters\n",
       "    Seconds run:   1.6033 (vs limit Inf)\n",
       "    Iterations:    13\n",
       "    f(x) calls:    7000\n"
      ]
     },
     "execution_count": 15,
     "metadata": {},
     "output_type": "execute_result"
    }
   ],
   "source": [
    "res = Evolutionary.optimize(fitobj,\n",
    "    TreeGP(\n",
    "        populationSize = 500,\n",
    "        terminals = syms,\n",
    "        functions = funcs,\n",
    "        mindepth=1,\n",
    "        maxdepth=3,\n",
    "        initialization=:full,\n",
    "        selection = uniformranking(2),\n",
    "        mutationRate = 0.1,\n",
    "        crossoverRate = 0.95,        \n",
    "        simplify=Evolutionary.simplify!        \n",
    "    ),\n",
    "    Evolutionary.Options(iterations=50, show_trace=true, show_every=10, rng=StableRNG(987498737423))\n",
    ")"
   ]
  },
  {
   "cell_type": "markdown",
   "metadata": {},
   "source": [
    "Here is our minimizing expression"
   ]
  },
  {
   "cell_type": "code",
   "execution_count": 16,
   "metadata": {},
   "outputs": [
    {
     "data": {
      "text/html": [
       "(((0.683-x)+(x+0.202))+(aq((x+0.202), 0.842)+3.323))"
      ],
      "text/latex": [
       "\\left(\\left(\\left(0.683-x\\right)+\\left(x+0.202\\right)\\right)+\\left(\\aq\\left(\\left(x+0.202\\right)0.842\\right)+3.323\\right)\\right)"
      ],
      "text/plain": [
       "(((0.683-x)+(x+0.202))+(aq((x+0.202), 0.842)+3.323))"
      ]
     },
     "execution_count": 16,
     "metadata": {},
     "output_type": "execute_result"
    }
   ],
   "source": [
    "ex = Evolutionary.Expression(Evolutionary.minimizer(res))"
   ]
  },
  {
   "cell_type": "markdown",
   "metadata": {},
   "source": [
    "Calculate least squares solution for comparison"
   ]
  },
  {
   "cell_type": "code",
   "execution_count": 17,
   "metadata": {},
   "outputs": [
    {
     "data": {
      "text/plain": [
       "2-element Vector{Float64}:\n",
       " 4.361211389323667\n",
       " 0.7782435754632802"
      ]
     },
     "execution_count": 17,
     "metadata": {},
     "output_type": "execute_result"
    }
   ],
   "source": [
    "X = hcat(ones(n), xs)\n",
    "β = inv(X'X)*X'ys"
   ]
  },
  {
   "cell_type": "code",
   "execution_count": 18,
   "metadata": {
    "scrolled": false
   },
   "outputs": [
    {
     "data": {
      "image/png": "[encoded data removed]"
     },
     "execution_count": 18,
     "metadata": {},
     "output_type": "execute_result"
    }
   ],
   "source": [
    "scatter(xs, ys, label=\"Data\", legend=:topleft)\n",
    "plot!(xs, β[2].*(xs).+β[1], label=\"Linear\")\n",
    "plot!(xs, ex.(xs), label=\"Symbolic\")"
   ]
  },
  {
   "cell_type": "markdown",
   "metadata": {},
   "source": [
    "### Nonlinear"
   ]
  },
  {
   "cell_type": "markdown",
   "metadata": {},
   "source": [
    "Now, let's generate some noisy with nonlinear data"
   ]
  },
  {
   "cell_type": "code",
   "execution_count": 19,
   "metadata": {},
   "outputs": [
    {
     "data": {
      "text/plain": [
       "([0.0, 0.1, 0.2, 0.30000000000000004, 0.4, 0.5, 0.6000000000000001, 0.7000000000000001, 0.8, 0.9  …  5.300000000000001, 5.4, 5.5, 5.6000000000000005, 5.7, 5.800000000000001, 5.9, 6.0, 6.1000000000000005, 6.2], [0.6648741539427164, 1.3034609157197612, 1.806545673789659, 1.775625569390072, 1.149160062560471, 1.3617018099706133, 0.41739900164343535, 0.4174284093198643, 1.5755188853166422, 1.2047978875432133  …  -0.2633485145419151, -0.9206622913615569, -1.0226097466209527, -0.05663518899024139, 0.20528055052971372, 0.14227439583858933, 0.3424355908688565, 0.3793396734383192, 1.1954801558035422, 0.374935723522007])"
      ]
     },
     "execution_count": 19,
     "metadata": {},
     "output_type": "execute_result"
    }
   ],
   "source": [
    "rng = StableRNG(42);\n",
    "xs = collect(0:0.1:2*pi) |> sort!\n",
    "ys = sin.(xs) + cos.(xs + xs) .+ randn(rng, length(xs))./2\n",
    "xs, ys"
   ]
  },
  {
   "cell_type": "code",
   "execution_count": 20,
   "metadata": {},
   "outputs": [
    {
     "data": {
      "image/png": "[encoded data removed]"
     },
     "execution_count": 20,
     "metadata": {},
     "output_type": "execute_result"
    }
   ],
   "source": [
    "scatter(xs, ys, leg=:none)"
   ]
  },
  {
   "cell_type": "markdown",
   "metadata": {},
   "source": [
    "We also expend the function collection with `sin`, `cos`, `log`,  and `exp`. We also provide arity for each function."
   ]
  },
  {
   "cell_type": "code",
   "execution_count": 21,
   "metadata": {},
   "outputs": [
    {
     "data": {
      "text/plain": [
       "Dict{Function, Int64} with 5 entries:\n",
       "  -   => 2\n",
       "  sin => 1\n",
       "  cos => 1\n",
       "  *   => 2\n",
       "  +   => 2"
      ]
     },
     "execution_count": 21,
     "metadata": {},
     "output_type": "execute_result"
    }
   ],
   "source": [
    "funcs = Dict((+) => 2, (-) => 2,  (*) => 2, (sin) => 1, (cos) => 1)\n",
    "             #(^)=>2, (log) => 1, (exp) => 1)"
   ]
  },
  {
   "cell_type": "markdown",
   "metadata": {},
   "source": [
    "We also need to increase maximum depth for the expression tree to accommodate more complex expressions"
   ]
  },
  {
   "cell_type": "code",
   "execution_count": 23,
   "metadata": {},
   "outputs": [
    {
     "name": "stdout",
     "output_type": "stream",
     "text": [
      "Iter     Function value\n",
      "     0   6.156961291594505\n",
      " * time: 6.198883056640625e-5\n",
      "    15   6.056208796756655\n",
      " * time: 0.8294048309326172\n"
     ]
    },
    {
     "data": {
      "text/plain": [
       "\n",
       " * Status: success\n",
       "\n",
       " * Candidate solution\n",
       "    Minimizer:  (cos)((+)((*)(0.6668183013557487, x), (cos)(x)))\n",
       "    Minimum:    6.056208796756655\n",
       "    Iterations: 20\n",
       "\n",
       " * Found with\n",
       "    Algorithm: TreeGP[P=500,Parameter[x],Function[-, sin, cos, *, +]]\n",
       "\n",
       " * Convergence measures\n",
       "    |f(x) - f(x')| = 0.0 ≤ 1.0e-5\n",
       "\n",
       " * Work counters\n",
       "    Seconds run:   1.1097 (vs limit Inf)\n",
       "    Iterations:    20\n",
       "    f(x) calls:    10500\n"
      ]
     },
     "execution_count": 23,
     "metadata": {},
     "output_type": "execute_result"
    }
   ],
   "source": [
    "res = Evolutionary.optimize(fitobj,\n",
    "    TreeGP(\n",
    "        populationSize = 500,\n",
    "        terminals = syms,\n",
    "        functions = funcs,\n",
    "        mindepth=1,\n",
    "        maxdepth=3,\n",
    "        initialization=:grow,\n",
    "        selection = uniformranking(2),\n",
    "        mutationRate = 0.15,\n",
    "        crossoverRate = 0.6,              \n",
    "    ),\n",
    "    Evolutionary.Options(iterations=60, show_trace=true, show_every=15, rng=StableRNG(987498737423))\n",
    ")"
   ]
  },
  {
   "cell_type": "markdown",
   "metadata": {},
   "source": [
    "Here is the resulting expression, and the plot of this expression evaluated on the original data.\n",
    "\n",
    "- The resulting expression is very close to the original data-generating function, $\\sin(x) + \\cos(x + x) + \\varepsilon$. "
   ]
  },
  {
   "cell_type": "code",
   "execution_count": 24,
   "metadata": {
    "scrolled": true
   },
   "outputs": [
    {
     "data": {
      "text/html": [
       "cos(((0.667*x)+cos(x)))"
      ],
      "text/latex": [
       "\\cos\\left(\\left(\\left(0.667*x\\right)+\\cos\\left(x\\right)\\right)\\right)"
      ],
      "text/plain": [
       "cos(((0.667*x)+cos(x)))"
      ]
     },
     "execution_count": 24,
     "metadata": {},
     "output_type": "execute_result"
    }
   ],
   "source": [
    "ex = Evolutionary.Expression(Evolutionary.minimizer(res) |> copy)"
   ]
  },
  {
   "cell_type": "code",
   "execution_count": 25,
   "metadata": {
    "scrolled": false
   },
   "outputs": [
    {
     "data": {
      "image/png": "[encoded data removed]"
     },
     "execution_count": 25,
     "metadata": {},
     "output_type": "execute_result"
    }
   ],
   "source": [
    "plot(xs, ys, label=\"Original\")\n",
    "plot!(xs, ex.(xs), label=\"Predicted\")"
   ]
  },
  {
   "cell_type": "markdown",
   "metadata": {},
   "source": [
    "### Expression Simplification \n",
    "\n",
    "However, sometimes, the generated expression can be quite long"
   ]
  },
  {
   "cell_type": "code",
   "execution_count": 43,
   "metadata": {},
   "outputs": [
    {
     "name": "stdout",
     "output_type": "stream",
     "text": [
      "Iter     Function value\n",
      "     0   6.156961291594505\n",
      " * time: 6.198883056640625e-5\n",
      "    15   4.125211174338502\n",
      " * time: 0.7877378463745117\n",
      "    30   4.070365026676904\n",
      " * time: 3.570003032684326\n"
     ]
    },
    {
     "data": {
      "text/plain": [
       "\n",
       " * Status: failure (reached maximum number of iterations)\n",
       "\n",
       " * Candidate solution\n",
       "    Minimizer:  (+)((cos)((+)(x, x)), (-)((sin)((+)((*)((sin)((+)((cos)((cos)((+)((cos)((*)((*)(0.014687303588151845, (*)(0.21787006976551582, 0.1183292972139196)), 0.1183292972139196)), (*)(x, 0.1183292972139196)))), x)), (*)((cos)((+)(x, (*)(x, (*)((-)((+)(x, (*)((*)((cos)(x), (*)((*)(0.37197437782357445, (sin)((-)((sin)((+)((cos)((cos)((+)((-)((sin)((sin)(x)), 0.014687303588151845), 0.11816900245547068))), x)), 0.014687303588151845))), 0.1183292972139196)), x)), x), (+)(x, (+)(x, (*)((*)((cos)(x), (*)(0.21787006976551582, 0.1183292972139196)), 0.1183292972139196))))))), 0.1183292972139196)), (+)(0.11816900245547068, x))), 0.014687303588151845))\n",
       "    Minimum:    4.038233331218614\n",
       "    Iterations: 35\n",
       "\n",
       " * Found with\n",
       "    Algorithm: TreeGP[P=500,Parameter[x],Function[-, sin, cos, *, +]]\n",
       "\n",
       " * Convergence measures\n",
       "    |f(x) - f(x')| = 0.02937822042493199 ≰ 1.0e-5\n",
       "\n",
       " * Work counters\n",
       "    Seconds run:   5.2194 (vs limit Inf)\n",
       "    Iterations:    35\n",
       "    f(x) calls:    18000\n"
      ]
     },
     "execution_count": 43,
     "metadata": {},
     "output_type": "execute_result"
    }
   ],
   "source": [
    "res = Evolutionary.optimize(fitobj,\n",
    "    TreeGP(\n",
    "        populationSize = 500,\n",
    "        terminals = syms,\n",
    "        functions = funcs,\n",
    "        mindepth=1,\n",
    "        maxdepth=3,\n",
    "        initialization=:grow,    \n",
    "        selection = tournament(3),\n",
    "        mutationRate = 0.15,\n",
    "        crossoverRate = 0.75,              \n",
    "    ),\n",
    "    Evolutionary.Options(iterations=35, show_trace=true, show_every=15, rng=StableRNG(987498737423))\n",
    ")"
   ]
  },
  {
   "cell_type": "markdown",
   "metadata": {},
   "source": [
    "The minimizer function is quite long, so we might want to simplify it. We'll use `SymPy` package functionality to perform the expression simplification."
   ]
  },
  {
   "cell_type": "code",
   "execution_count": 27,
   "metadata": {
    "code_folding": []
   },
   "outputs": [
    {
     "data": {
      "text/plain": [
       "simplify! (generic function with 1 method)"
      ]
     },
     "execution_count": 27,
     "metadata": {},
     "output_type": "execute_result"
    }
   ],
   "source": [
    "using SymPy, PyCall\n",
    "sympycore = pyimport(\"sympy.core\")\n",
    "\n",
    "# Convert sympy expression back to the julia expression\n",
    "function convert(::Type{Expr}, sexpr::Sym)\n",
    "    # deal with numbers and symbols\n",
    "    if sexpr.is_Float\n",
    "        return Float64(sexpr.num)\n",
    "    elseif sexpr.is_Rational\n",
    "        return Float64(sexpr.evalf().num)\n",
    "    elseif sexpr.is_Symbol\n",
    "        return Symbol(sexpr.name)\n",
    "    end\n",
    "    # convert functions\n",
    "    expr = Expr(:call)\n",
    "    fn, (le, re) = if sexpr.is_Function\n",
    "        fname = Symbol(\"$(sexpr.func)\"[10:end])\n",
    "        a2 = length(sexpr.args) > 1 ? sexpr.args[2] : nothing\n",
    "        eval(fname), (sexpr.args[1], a2)\n",
    "    elseif sexpr.func == sympycore.mul.Mul\n",
    "        (*), sexpr.as_two_terms()\n",
    "    elseif sexpr.func == sympycore.power.Pow\n",
    "        (^), sexpr.args[1:2]\n",
    "    elseif sexpr.func == sympycore.add.Add\n",
    "        (+), sexpr.as_two_terms()\n",
    "    end\n",
    "#     println(fn, \" \", le, \" \", re)\n",
    "    push!(expr.args, fn)\n",
    "    push!(expr.args, convert(Expr, le))\n",
    "    re !== nothing && push!(expr.args, convert(Expr, re))\n",
    "    return expr\n",
    "end\n",
    "\n",
    "function Base.replace!(expr, op1, op2)\n",
    "    !isa(expr, Expr) && return expr\n",
    "    if isa(expr,Expr) && expr.head == :call && expr.args[1] == op1\n",
    "        expr.args[1] = op2\n",
    "    end\n",
    "    for ex in expr.args\n",
    "        Base.replace!(ex, op1, op2)\n",
    "    end\n",
    "    return expr    \n",
    "end\n",
    "\n",
    "function simplify!(ex::Expr)\n",
    "    expr = Evolutionary.Expression(ex)\n",
    "    length(expr.syms) == 0 && return ex    \n",
    "    sexpr = eval(Expr(:call, expr, map(Sym ∘ string, collect(keys(expr.syms)))...))\n",
    "    sexpr = SymPy.simplify(sexpr)\n",
    "    copyto!(ex, convert(Expr, sexpr))\n",
    "end"
   ]
  },
  {
   "cell_type": "code",
   "execution_count": 44,
   "metadata": {},
   "outputs": [
    {
     "data": {
      "text/html": [
       "(cos((x+x))+(sin(((sin((cos(cos((cos(((0.015*(0.218*0.118))*0.118))+(x*0.118))))+x))*(cos((x+(x*(((x+((cos(x)*((0.372*sin((sin((cos(cos(((sin(sin(x))-0.015)+0.118)))+x))-0.015)))*0.118))*x))-x)*(x+(x+((cos(x)*(0.218*0.118))*0.118)))))))*0.118))+(0.118+x)))-0.015))"
      ],
      "text/latex": [
       "\\left(\\cos\\left(\\left(x+x\\right)\\right)+\\left(\\sin\\left(\\left(\\left(\\sin\\left(\\left(\\cos\\left(\\cos\\left(\\left(\\cos\\left(\\left(\\left(0.015*\\left(0.218*0.118\\right)\\right)*0.118\\right)\\right)+\\left(x*0.118\\right)\\right)\\right)\\right)+x\\right)\\right)*\\left(\\cos\\left(\\left(x+\\left(x*\\left(\\left(\\left(x+\\left(\\left(\\cos\\left(x\\right)*\\left(\\left(0.372*\\sin\\left(\\left(\\sin\\left(\\left(\\cos\\left(\\cos\\left(\\left(\\left(\\sin\\left(\\sin\\left(x\\right)\\right)-0.015\\right)+0.118\\right)\\right)\\right)+x\\right)\\right)-0.015\\right)\\right)\\right)*0.118\\right)\\right)*x\\right)\\right)-x\\right)*\\left(x+\\left(x+\\left(\\left(\\cos\\left(x\\right)*\\left(0.218*0.118\\right)\\right)*0.118\\right)\\right)\\right)\\right)\\right)\\right)\\right)*0.118\\right)\\right)+\\left(0.118+x\\right)\\right)\\right)-0.015\\right)\\right)"
      ],
      "text/plain": [
       "(cos((x+x))+(sin(((sin((cos(cos((cos(((0.015*(0.218*0.118))*0.118))+(x*0.118))))+x))*(cos((x+(x*(((x+((cos(x)*((0.372*sin((sin((cos(cos(((sin(sin(x))-0.015)+0.118)))+x))-0.015)))*0.118))*x))-x)*(x+(x+((cos(x)*(0.218*0.118))*0.118)))))))*0.118))+(0.118+x)))-0.015))"
      ]
     },
     "execution_count": 44,
     "metadata": {},
     "output_type": "execute_result"
    }
   ],
   "source": [
    "expr = Evolutionary.Expression(copy(Evolutionary.minimizer(res)))"
   ]
  },
  {
   "cell_type": "code",
   "execution_count": 45,
   "metadata": {},
   "outputs": [
    {
     "data": {
      "text/html": [
       "(-0.015+(cos((2.0*x))+sin((0.118+(x+(0.118*(cos((x*(1.0+(0.044*(x*(((2.0*x)+(0.003*cos(x)))*(cos(x)*sin((-0.015+sin((x+cos(cos((0.103+sin(sin(x))))))))))))))))*sin((x+cos(cos((1.0+(0.118*x)))))))))))))"
      ],
      "text/latex": [
       "\\left(-0.015+\\left(\\cos\\left(\\left(2.0*x\\right)\\right)+\\sin\\left(\\left(0.118+\\left(x+\\left(0.118*\\left(\\cos\\left(\\left(x*\\left(1.0+\\left(0.044*\\left(x*\\left(\\left(\\left(2.0*x\\right)+\\left(0.003*\\cos\\left(x\\right)\\right)\\right)*\\left(\\cos\\left(x\\right)*\\sin\\left(\\left(-0.015+\\sin\\left(\\left(x+\\cos\\left(\\cos\\left(\\left(0.103+\\sin\\left(\\sin\\left(x\\right)\\right)\\right)\\right)\\right)\\right)\\right)\\right)\\right)\\right)\\right)\\right)\\right)\\right)\\right)\\right)*\\sin\\left(\\left(x+\\cos\\left(\\cos\\left(\\left(1.0+\\left(0.118*x\\right)\\right)\\right)\\right)\\right)\\right)\\right)\\right)\\right)\\right)\\right)\\right)\\right)"
      ],
      "text/plain": [
       "(-0.015+(cos((2.0*x))+sin((0.118+(x+(0.118*(cos((x*(1.0+(0.044*(x*(((2.0*x)+(0.003*cos(x)))*(cos(x)*sin((-0.015+sin((x+cos(cos((0.103+sin(sin(x))))))))))))))))*sin((x+cos(cos((1.0+(0.118*x)))))))))))))"
      ]
     },
     "execution_count": 45,
     "metadata": {},
     "output_type": "execute_result"
    }
   ],
   "source": [
    "ex = simplify!(Evolutionary.minimizer(res)) |> Evolutionary.Expression"
   ]
  },
  {
   "cell_type": "markdown",
   "metadata": {},
   "source": [
    "We can generate a LaTeX expression of the simplified minimizer"
   ]
  },
  {
   "cell_type": "code",
   "execution_count": 46,
   "metadata": {},
   "outputs": [
    {
     "data": {
      "text/latex": [
       "\\left(-0.015+\\left(\\cos\\left(\\left(2.0*x\\right)\\right)+\\sin\\left(\\left(0.118+\\left(x+\\left(0.118*\\left(\\cos\\left(\\left(x*\\left(1.0+\\left(0.044*\\left(x*\\left(\\left(\\left(2.0*x\\right)+\\left(0.003*\\cos\\left(x\\right)\\right)\\right)*\\left(\\cos\\left(x\\right)*\\sin\\left(\\left(-0.015+\\sin\\left(\\left(x+\\cos\\left(\\cos\\left(\\left(0.103+\\sin\\left(\\sin\\left(x\\right)\\right)\\right)\\right)\\right)\\right)\\right)\\right)\\right)\\right)\\right)\\right)\\right)\\right)\\right)\\right)*\\sin\\left(\\left(x+\\cos\\left(\\cos\\left(\\left(1.0+\\left(0.118*x\\right)\\right)\\right)\\right)\\right)\\right)\\right)\\right)\\right)\\right)\\right)\\right)\\right)"
      ]
     },
     "metadata": {},
     "output_type": "display_data"
    }
   ],
   "source": [
    "display(\"text/latex\", ex)"
   ]
  },
  {
   "cell_type": "markdown",
   "metadata": {},
   "source": [
    "Thus, the simplified expression is the following:\n",
    "\n",
    "$$\\left(-0.015+\\left(\\cos\\left(\\left(2.0*x\\right)\\right)+\\sin\\left(\\left(0.118+\\left(x+\\left(0.118*\\left(\\cos\\left(\\left(x*\\left(1.0+\\left(0.044*\\left(x*\\left(\\left(\\left(2.0*x\\right)+\\left(0.003*\\cos\\left(x\\right)\\right)\\right)*\\left(\\cos\\left(x\\right)*\\sin\\left(\\left(-0.015+\\sin\\left(\\left(x+\\cos\\left(\\cos\\left(\\left(0.103+\\sin\\left(\\sin\\left(x\\right)\\right)\\right)\\right)\\right)\\right)\\right)\\right)\\right)\\right)\\right)\\right)\\right)\\right)\\right)\\right)*\\sin\\left(\\left(x+\\cos\\left(\\cos\\left(\\left(1.0+\\left(0.118*x\\right)\\right)\\right)\\right)\\right)\\right)\\right)\\right)\\right)\\right)\\right)\\right)\\right)$$\n",
    "\n",
    "We can plot resulting function along with original data"
   ]
  },
  {
   "cell_type": "code",
   "execution_count": 47,
   "metadata": {},
   "outputs": [
    {
     "data": {
      "image/png": "[encoded data removed]"
     },
     "execution_count": 47,
     "metadata": {},
     "output_type": "execute_result"
    }
   ],
   "source": [
    "plot(xs, ys, label=\"Original\")\n",
    "plot!(xs, ex.(xs), label=\"Predicted\")"
   ]
  },
  {
   "cell_type": "markdown",
   "metadata": {},
   "source": [
    "You can find the corresponding Jupyter notebook in the [Evolutionary](https://github.com/wildart/Evolutionary.jl/tree/master/examples) package repository."
   ]
  }
 ],
 "metadata": {
  "kernelspec": {
   "display_name": "Julia 1.7.2",
   "language": "julia",
   "name": "julia-1.7"
  },
  "language_info": {
   "file_extension": ".jl",
   "mimetype": "application/julia",
   "name": "julia",
   "version": "1.7.2"
  }
 },
 "nbformat": 4,
 "nbformat_minor": 2
}
